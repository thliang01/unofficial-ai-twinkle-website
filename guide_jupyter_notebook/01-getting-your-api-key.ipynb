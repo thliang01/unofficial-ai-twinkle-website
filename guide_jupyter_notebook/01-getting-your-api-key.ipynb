{
 "cells": [
  {
   "cell_type": "markdown",
   "id": "9d7d0255",
   "metadata": {},
   "source": [
    "# 🚀 Getting Started: Your First Steps with the Gemini API and Nano Banana"
   ]
  },
  {
   "cell_type": "markdown",
   "id": "d391a235",
   "metadata": {},
   "source": [
    "<table align=\"left\">\n",
    "  <td>\n",
    "    <a target=\"_blank\" href=\"https://colab.research.google.com/github/google-gemini/nano-banana-hackathon-kit/blob/main/guides/01-getting-your-api-key.ipynb\"><img src=\"https://colab.research.google.com/assets/colab-badge.svg\" height=30/></a>\n",
    "  </td>\n",
    "</table>"
   ]
  },
  {
   "cell_type": "markdown",
   "id": "173ee1b8",
   "metadata": {},
   "source": [
    "Welcome, hacker! This guide will walk you through the essential steps to get your free Gemini API key and set up your development environment for the Nano Banana 48 Hour Challenge.\n",
    "\n",
    "Our goal is to get you from zero to your first generated image in just a few minutes.\n",
    "\n",
    "### What this guide covers:\n",
    "1.  **Getting Your Free API Key** from Google AI Studio.\n",
    "2.  **Setting Up Your Project** with the necessary SDK.\n",
    "3.  **Running Your First API Call** to confirm everything works.\n",
    "\n",
    "Let's get started!\n",
    "\n",
    "## Step 1: Get Your Free API Key\n",
    "\n",
    "For the 48-hour competition, you have free-tier access to the Gemini API through Google AI Studio. AI Studio is a web-based playground where you can test prompts and, most importantly, generate your API key.\n",
    "\n",
    "**1. Go to Google AI Studio**\n",
    "\n",
    "*   Use this direct link to open a new session with the Nano Banana model:\n",
    "    > **[ai.studio/banana](https://ai.studio/banana)**\n",
    "\n",
    "*   Sign in with your Google account if prompted.\n",
    "\n",
    "**2. Generate Your API Key**\n",
    "\n",
    "1. In Google AI Studio, click [Get API key](https://aistudio.google.com/apikey) in the left navigation panel.\n",
    "2. On the next page, click Create API key.\n",
    "3. Select an existing Google Cloud project or create a new one. This project is used to manage billing for API usage.\n",
    "4. Once the process is complete, your API key will be displayed. Copy and store it securely."
   ]
  },
  {
   "cell_type": "markdown",
   "id": "a1283d63",
   "metadata": {},
   "source": [
    "![An image of the Google AI Studio interface showing the model selection with Nano Banana selected](https://dev-to-uploads.s3.amazonaws.com/uploads/articles/o9or9z21jmxarbejhizi.png)\n",
    "\n",
    "_Tip: You can also vibe code Nano Banana web apps directly in AI Studio at ai.studio/apps, or explore the code and remix one of the existing apps._"
   ]
  },
  {
   "cell_type": "markdown",
   "id": "439eab3a",
   "metadata": {},
   "source": [
    "*   Copy your new API key immediately.\n",
    "\n",
    "🔒 **IMPORTANT: Keep Your API Key Secure!**\n",
    "Treat your API key like a password. **Do not** share it publicly or commit it to your GitHub repository. The best practice is to use an environment variable.\n",
    "\n",
    "## Step 2: Set Up Your Coding Environment\n",
    "\n",
    "Next, install the official Google AI SDK for your preferred language.\n",
    "\n",
    "#### **Python**\n",
    "Open your terminal and run:"
   ]
  },
  {
   "cell_type": "code",
   "execution_count": null,
   "id": "c4244631",
   "metadata": {},
   "outputs": [],
   "source": [
    "# Install the main SDK\n",
    "% pip install -U google-genai\n",
    "\n",
    "# We also recommend Pillow for handling images\n",
    "% pip install Pillow"
   ]
  },
  {
   "cell_type": "markdown",
   "id": "d2a7aa97",
   "metadata": {},
   "source": [
    "#### **JavaScript / TypeScript**\n",
    "\n",
    "Open your terminal and run:\n",
    "\n",
    "```bash\n",
    "npm install @google/genai\n",
    "```\n",
    "\n",
    "You can find the JavaScript example in the [../examples/javascript-getting-started.md](../examples/javascript-getting-started.md) file."
   ]
  },
  {
   "cell_type": "markdown",
   "id": "5bd0b943",
   "metadata": {},
   "source": [
    "## Step 3: Run Your First API Call (Hello, Banana!)\n",
    "\n",
    "Let's make sure your key and setup are working correctly by generating an image. This simple script will create a photorealistic cat.\n",
    "\n",
    "#### **Python Example**"
   ]
  },
  {
   "cell_type": "code",
   "execution_count": null,
   "id": "8282f3ea",
   "metadata": {},
   "outputs": [],
   "source": [
    "import os\n",
    "from google import genai\n",
    "from PIL import Image\n",
    "from io import BytesIO\n",
    "from IPython.display import display\n",
    "\n",
    "# --- IMPORTANT ---\n",
    "# Paste your API key here. For better security, we recommend using environment variables.\n",
    "# For example: API_KEY=os.environ.get(\"GEMINI_API_KEY\")\n",
    "API_KEY = \"YOUR_API_KEY\"\n",
    "# -----------------\n",
    "\n",
    "# Configure the client with your API key\n",
    "client = genai.Client(api_key=API_KEY)\n",
    "\n",
    "# The text prompt for image generation\n",
    "prompt = \"Create a photorealistic image of an orange cat with green eyes, sitting on a couch.\"\n",
    "\n",
    "print(\"Generating image...\")\n",
    "\n",
    "# Call the API to generate the image\n",
    "response = client.models.generate_content(\n",
    "    model=\"gemini-2.5-flash-image-preview\",\n",
    "    contents=prompt,\n",
    ")\n",
    "\n",
    "image_parts = [\n",
    "    part.inline_data.data\n",
    "    for part in response.candidates[0].content.parts\n",
    "    if part.inline_data\n",
    "]\n",
    " \n",
    "if image_parts:\n",
    "    image = Image.open(BytesIO(image_parts[0]))\n",
    "    image.save('cat.png')\n",
    "    display(image)"
   ]
  },
  {
   "cell_type": "markdown",
   "id": "399a2b1b",
   "metadata": {},
   "source": [
    "If everything is correct, you will see a `cat.png` file appear in your folder!\n",
    "\n",
    "![A photorealistic image of an orange cat with green eyes sitting on a couch](https://dev-to-uploads.s3.amazonaws.com/uploads/articles/k4ae99ee27jmi83rye8s.png)\n",
    "\n",
    "## ✅ You're All Set! What's Next?\n",
    "\n",
    "Congratulations, you are now ready to build with the Gemini API! First off, check this [**second guide**](./02-use-nano-banana.ipynb) on how to use the nano banana to edit images or generate multiple ones.\n",
    "\n",
    "*   **Explore Project Templates**: Head over to the [`/starter-kits`](../starter-kits/) directory in this repository for ready-to-use application templates.\n",
    "*   **See More Examples**: Check out the [`/examples`](../examples/) folder for more advanced code snippets, like image editing and restoration.\n",
    "*   **Review the Rules**: Go back to the main [README](../README.md) for submission guidelines and competition details."
   ]
  }
 ],
 "metadata": {
  "kernelspec": {
   "display_name": ".venv",
   "language": "python",
   "name": "python3"
  },
  "language_info": {
   "codemirror_mode": {
    "name": "ipython",
    "version": 3
   },
   "file_extension": ".py",
   "mimetype": "text/x-python",
   "name": "python",
   "nbconvert_exporter": "python",
   "pygments_lexer": "ipython3",
   "version": "3.13.2"
  }
 },
 "nbformat": 4,
 "nbformat_minor": 5
}
